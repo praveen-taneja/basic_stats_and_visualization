{
 "cells": [
  {
   "cell_type": "markdown",
   "metadata": {},
   "source": [
    "plot histograms from a dataframe"
   ]
  },
  {
   "cell_type": "code",
   "execution_count": 6,
   "metadata": {
    "collapsed": true
   },
   "outputs": [],
   "source": [
    "import numpy as np\n",
    "import pandas as pd\n",
    "import wx\n",
    "import os\n",
    "import sys\n",
    "import matplotlib.pylab as plt\n",
    "%matplotlib inline"
   ]
  },
  {
   "cell_type": "code",
   "execution_count": 7,
   "metadata": {
    "collapsed": true
   },
   "outputs": [],
   "source": [
    "col_name = 'peak_amp'\n",
    "groupby_factor = 'GT'"
   ]
  },
  {
   "cell_type": "code",
   "execution_count": 8,
   "metadata": {
    "collapsed": true
   },
   "outputs": [],
   "source": [
    "def get_path(wildcard, title_text):\n",
    "    app = wx.App(None)\n",
    "    style = wx.FD_OPEN | wx.FD_FILE_MUST_EXIST\n",
    "    dialog = wx.FileDialog(None, title_text, wildcard=wildcard, style=style)\n",
    "    if dialog.ShowModal() == wx.ID_OK:\n",
    "        path = dialog.GetPath()\n",
    "    else:\n",
    "        path = None\n",
    "        sys.exit()\n",
    "    dialog.Destroy()\n",
    "    return path"
   ]
  },
  {
   "cell_type": "code",
   "execution_count": 9,
   "metadata": {
    "collapsed": false
   },
   "outputs": [
    {
     "name": "stdout",
     "output_type": "stream",
     "text": [
      "loading data file /Users/taneja/work/analysis_random_samples.csv\n",
      "(19, 15)\n"
     ]
    }
   ],
   "source": [
    "data_fn = get_path('*.*', 'Choose data file')\n",
    "data_folder = os.path.split(data_fn)[0]\n",
    "data_folder = data_folder + '/'\n",
    "data = pd.read_table(data_fn, delimiter = ',')\n",
    "print 'loading data file', data_fn\n",
    "#print data.head(1)\n",
    "print data.shape"
   ]
  },
  {
   "cell_type": "code",
   "execution_count": 10,
   "metadata": {
    "collapsed": false
   },
   "outputs": [
    {
     "data": {
      "text/plain": [
       "<matplotlib.legend.Legend at 0x119039850>"
      ]
     },
     "execution_count": 10,
     "metadata": {},
     "output_type": "execute_result"
    },
    {
     "data": {
      "image/png": "[encoded data removed]",
      "text/plain": [
       "<matplotlib.figure.Figure at 0x1132acd10>"
      ]
     },
     "metadata": {},
     "output_type": "display_data"
    }
   ],
   "source": [
    "grouped = data.groupby([groupby_factor])\n",
    "plt.figure(figsize = (7, 7))\n",
    "for name, group in grouped:\n",
    "    #plt.hist(group['peak_amp'].values, bins = 100, range = (-50e-12, 0), normed = 1, cumulative=True, histtype='step', label = name)\n",
    "    #plt.legend(loc = 'upper left')\n",
    "    hist, bins = np.histogram(group[col_name].values, bins = 50, range = (-50e-12, 0), density = True)\n",
    "    bin_centers = bins[:-1] + 0.5*(bins[1] - bins[0])\n",
    "    #print hist\n",
    "    #print bins\n",
    "    #print bin_centers\n",
    "    plt.plot(bin_centers, hist, label = name)\n",
    "plt.legend(loc = 'upper left')\n",
    "\n",
    "    "
   ]
  },
  {
   "cell_type": "code",
   "execution_count": null,
   "metadata": {
    "collapsed": true
   },
   "outputs": [],
   "source": []
  }
 ],
 "metadata": {
  "kernelspec": {
   "display_name": "Python 2",
   "language": "python",
   "name": "python2"
  },
  "language_info": {
   "codemirror_mode": {
    "name": "ipython",
    "version": 2
   },
   "file_extension": ".py",
   "mimetype": "text/x-python",
   "name": "python",
   "nbconvert_exporter": "python",
   "pygments_lexer": "ipython2",
   "version": "2.7.9"
  }
 },
 "nbformat": 4,
 "nbformat_minor": 0
}
